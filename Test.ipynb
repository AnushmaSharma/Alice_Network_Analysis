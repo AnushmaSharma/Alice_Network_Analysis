{
 "cells": [
  {
   "cell_type": "code",
   "execution_count": 1,
   "id": "4d896ba7-e662-4b40-b21a-decec354c2d4",
   "metadata": {},
   "outputs": [],
   "source": [
    "result = 1 + 1"
   ]
  },
  {
   "cell_type": "code",
   "execution_count": 3,
   "id": "570daf4e-9108-46e7-b8ce-f2151787adc6",
   "metadata": {},
   "outputs": [
    {
     "name": "stdout",
     "output_type": "stream",
     "text": [
      "The result is: 2\n"
     ]
    }
   ],
   "source": [
    "print(\"The result is:\", result)"
   ]
  },
  {
   "cell_type": "code",
   "execution_count": null,
   "id": "27308da1-bff4-48cf-8d10-124245c25c8f",
   "metadata": {},
   "outputs": [],
   "source": []
  }
 ],
 "metadata": {
  "kernelspec": {
   "display_name": "Python 3 (ipykernel)",
   "language": "python",
   "name": "python3"
  },
  "language_info": {
   "codemirror_mode": {
    "name": "ipython",
    "version": 3
   },
   "file_extension": ".py",
   "mimetype": "text/x-python",
   "name": "python",
   "nbconvert_exporter": "python",
   "pygments_lexer": "ipython3",
   "version": "3.12.4"
  }
 },
 "nbformat": 4,
 "nbformat_minor": 5
}
